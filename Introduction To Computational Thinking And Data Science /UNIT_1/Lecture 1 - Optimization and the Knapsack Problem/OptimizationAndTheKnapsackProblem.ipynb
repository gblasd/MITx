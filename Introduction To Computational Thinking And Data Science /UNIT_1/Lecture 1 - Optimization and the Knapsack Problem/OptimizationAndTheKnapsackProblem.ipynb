{
 "cells": [
  {
   "cell_type": "markdown",
   "metadata": {
    "vscode": {
     "languageId": "plaintext"
    }
   },
   "source": [
    "## __Model optimization__"
   ]
  },
  {
   "cell_type": "markdown",
   "metadata": {},
   "source": [
    "__What is a Optimization Model?__\n",
    "\n",
    "The notion of an _optimization problem_ provides a structured way to thik about solving lots a computational problems.\n",
    "\n",
    "It's go two parts:\n",
    "\n",
    "1. An objective function that is to be maximized or minimized.\n",
    "    - Maximize time spent traveling from New York to Boston\n",
    "\n",
    "2. A set of constraints (possibly empty) that must be honored, e.g.,\n",
    "    - Cannot spend more than $100\n",
    "    - Must be in Boston before 5:00PM\n"
   ]
  },
  {
   "cell_type": "markdown",
   "metadata": {},
   "source": [
    "## __Knapsack and Bin-packing Problems__"
   ]
  },
  {
   "cell_type": "markdown",
   "metadata": {},
   "source": [
    "__Knapsack Problems__\n",
    "\n",
    "* You have limited strength, so there is a maximum weight knapsack that you can carry.\n",
    "* You would like to take more stuff than you can carry.\n",
    "* How do you choose which stuff to take and which to leave behind?\n",
    "* Two variants:\n",
    "    * 0/1 knapsack problem\n",
    "    * Continous or fractorial knapsack problem\n",
    "\n",
    "\n",
    "__0/1 Knapsack Problem__\n",
    "\n",
    "* Each item is represented by a pair,  $<value, weight>$ \n",
    "* The knapsack can accommodate items with a total weight of no more than _w_.\n",
    "* A vector, $L$, of lenght $n$, represents the set of available items. Each element of the vector is an item.\n",
    "* A vector, $V$, of lenght $n$, is used to indicate whether or not items are taken. If $V[i]=1$, items $I[i]$ is taken. if $V[i]=0$, item $I[i]$ is no taken.\n",
    "\n",
    "Find the $V$ that maximizes\n",
    "\n",
    "$$ \\sum_{i=0}^{n-1} V[i] * I[i].value $$\n",
    "\n",
    "subject to the contraint that\n",
    "\n",
    "$$ \\sum_{i=0}^{n-1} V[i] * I[i].weight \\leq w$$\n",
    "\n"
   ]
  },
  {
   "cell_type": "markdown",
   "metadata": {},
   "source": [
    "_How can we solve these problems?_\n",
    "\n",
    "1. Enumerate all posible combinations of items. That is to say, generate all subsets of the set of subjects. This is called the __power set__.\n",
    "2. Remove al of the combinations whose total units exceeds the allowed weight.\n",
    "3. From the remaining combinations choose any one whose value is the largest.\n"
   ]
  },
  {
   "cell_type": "markdown",
   "metadata": {},
   "source": [
    "__Often Not Practical__\n",
    "\n",
    "* How big is power set?\n",
    "* Recall\n",
    "    * A vector, $V$, of length $n$, is used to indicate wheter or not items are taken. If $V[i]=1$, item $I[i]$ is taken. If $V[i]=04, item $I[i]$ is not taken.\n",
    "* How many possible different values can $V$ have?\n",
    "    * As many different binary numbers as can be represented in $b$ bits.\n",
    "\n",
    "* For example, if there area 100 items to choose from, the power set is of size $126, 765,060, 022, 822, 940, 149, 670, 320, 5376$\n",
    "\n",
    "\n",
    "__0/2 ksnapsack prblem is inherently exponential__"
   ]
  },
  {
   "cell_type": "markdown",
   "metadata": {},
   "source": [
    "## __Excercise 1__"
   ]
  },
  {
   "cell_type": "markdown",
   "metadata": {},
   "source": [
    "As s burgler a house, she finds the follwing items:\n",
    "\n",
    "\n",
    "| dirt | Weight| Value |\n",
    "|------|-------:|-------:|\n",
    "| Computer | 10 | 30 |\n",
    "| Fork | 5 | 1 |\n",
    "| Problem set  | 0 | -10 |\n",
    "\n",
    "\n",
    "This time, she can only carry a weight of 14, and whishes to maximize the value to weight ratio of the things she carries.\n",
    "She employs three different metrics in an attempt to do this, and writes an algoritm in Python to determine which to take.\n",
    "\n",
    "The algoritms works as follows:\n",
    "1. Evaluate the metric of each item. Each metric returns a numerical value for each item.\n",
    "2. For each item, from highest metric value to lowest, add the item if theres is room in the bag.\n",
    "\n",
    "Describe the heuristic that each of the following 3 metrics uses, and choose the result of running the algorithm with each metric:\n",
    "\n",
    "1. Metric 1:\n",
    "```python\n",
    "def metric1(item):\n",
    "    return item.getValue() / item.getWeight()\n",
    "```\n",
    "_Heuristic_: choose the item with best value to weight ratio first.\n",
    "_Result_: _the problem Set will give a ZeroDivisionError_\n",
    "\n",
    "2. Metric 2:\n",
    "```python\n",
    "def metric2(item):\n",
    "    return -item.getWeight()\n",
    "```\n",
    "_Heuristic_: choose the lightest object first.\n",
    "_Result_:The algoritmhm runs and returns a non.optimal solution, _the negative sign indicates that we pick lighter objects_.\n",
    "\n",
    "3. Metric 3:\n",
    "```python\n",
    "def metric3(item):\n",
    "    return item.getValue()\n",
    "```\n",
    "\n",
    "_Heuristic_: Choose the most valuable object first.\n",
    "_Result_: The algorithm runs and returns a non-optimal solution. it will take the computer, the problem set, and the dirt because it has room for these three. however, taking the problem set will decrease the value."
   ]
  },
  {
   "cell_type": "markdown",
   "metadata": {},
   "source": [
    "## __Exercise 2__"
   ]
  },
  {
   "cell_type": "markdown",
   "metadata": {},
   "source": [
    "Please help the burglar out! For each of the following greedy metrics, what should be the burglar's first two choice of items? here's a table the items from the slides:\n",
    "\n",
    "| item   |  $  | kg | $/kg |\n",
    "|--------|----:|---:|-----:|\n",
    "|clock   | 175 | 10 |  17.5|\n",
    "|picture |  90 |  9 |  10  |\n",
    "|radio   |  20 |  4 |   5  |\n",
    "|vase    |  50 |  2 |  25  |\n",
    "|book    |  10 |  1 |  10  |\n",
    "|copmuter| 200 | 20 |  10  |\n",
    "\n",
    "\n",
    "For this problem, asume that the maximun weight the burglar can carry is 20.\n",
    "\n",
    "1. Metric: _nax value_\n",
    "    - computer\n",
    "    - no more space\n",
    "\n",
    "2. Metric: _min weigth_\n",
    "    - book\n",
    "    - vase\n",
    "\n",
    "3. Metric: _max value/weight ratio_\n",
    "    - vase\n",
    "    - clock\n"
   ]
  },
  {
   "cell_type": "markdown",
   "metadata": {},
   "source": [
    "## __Exercise 3__"
   ]
  },
  {
   "cell_type": "markdown",
   "metadata": {},
   "source": [
    "1. What is the big-O upper bound runtime for the function `look_for_things`, where _n_ is defined as the number of elements in `myList`?\n",
    "\n",
    "```python\n",
    "NUMBER = 3\n",
    "def look_for_things(myList):\n",
    "    \"\"\"Looks at all elements\"\"\"\n",
    "    for n in myList:\n",
    "        if n == NUMBER:\n",
    "            return True\n",
    "    return False\n",
    "```\n",
    "\n",
    "Answer: $n$\n",
    "\n",
    "Here's how determine the big-O runtime:\n",
    "* __Loop__: the code iterates through the `myList` using a `for` loop. In the worst case, it might have to go through all `n` elements of the list.\n",
    "* __Constant Time Operations__: Inside the loop, the comparison `if n == NUMBER:` and the `return True` statement take constant time, regardless of the size of the list.\n",
    "* __Worst Case__: The worst-case scenario occurs when the element `NUMBER` is either not in the list or is the last element. In this case, the loop rusn `n` times.\n",
    "* __Big-O Notation__: Therefore, the big-O upper bound runtime fo the `look_for_things` functions is $O(n)$.\n",
    "\n",
    "\n",
    "2. What is the big-O upper bound runtime for the function `look_for_other_things`, where `n` id defined s the number of elements in `myList`?\n",
    "\n",
    "```python\n",
    "NUMBER = 3\n",
    "def look_for_other_things(myList):\n",
    "    \"\"\"Looks at all pairs of elements\"\"\"\n",
    "    for n in myList:\n",
    "        for m in myList:\n",
    "            if n - m == NUMBER or m - n == NUMBER:\n",
    "                return True\n",
    "    return False\n",
    "```\n",
    "\n",
    "Answer: $n^2$\n",
    "\n",
    "__Runtime Analysis:__\n",
    "* __Outer Loop__: The outer `for` loop iterates through the `myList` once for each element. This loops runs `n` times, where `n` is the number of elements in `myList`.\n",
    "* __Inner Loop__: The inner `for` loop also iterates through `myList` once for each element within each iteration of the outer loop. This inner loop also runs `n` times.\n",
    "* __Constant Time Operations__: Inside the inner loop, the substraction `n - m` or `m - n`, the comparison `== NUMBER`, the logical `or` operation, anf the `return True` statement all take constant time.\n",
    "* __Nested Loops__: Since the inner loop runs `n` times for each iteration of the outer loop, and the outer loop runs `n` times, the total number of iterations is `n * n = n^2`.\n",
    "* __Big-O Notations__: Therefore, the overall runtime of the `look_for_other_things` function is $O(n^2)$.\n",
    "\n",
    "\n",
    "3. What is the big-O upper bound runtime for the function `look_for_all_the_things`, where _n_ is defined as the number of elements in `myList`?\n",
    "\n",
    "Yuo do not need to account for the runtime of `get_all_subsets`; the code is provided so you can see how many subsets it generated, as that __will__ be a factor in your answer.\n",
    "\n",
    "```python\n",
    "def get_all_subsets(some_list):\n",
    "    \"\"\"Returns all subsets of size 0 - len(some_list) for some_list\"\"\"\n",
    "    if len(some_list) == 0:\n",
    "        # If the list is empty, return the empty list\n",
    "        return [[]]\n",
    "    subsets = []\n",
    "    first_elt = some_list[0]\n",
    "    rest_list = some_list[1:]\n",
    "    # Strategy: Get all the subsets of rest_list; for each\n",
    "    # of those subsets, a full subset list will contain both\n",
    "    # the original subset as well as a version of the subset\n",
    "    # that contains first_elt\n",
    "    for partial_subset in get_all_subsets(rest_list):\n",
    "        subsets.append(partial_subset)\n",
    "        next_subset = partial_subset[:] + [first_elt]\n",
    "        subsets.append(next_subset)\n",
    "    return subsets\n",
    "\n",
    "NUMBER = 3\n",
    "def look_for_all_the_things(myList):\n",
    "    \"\"\"Looks at all subsets of this list\"\"\"\n",
    "    # Make subsets\n",
    "    all_subsets = get_all_subsets(myList)\n",
    "    for subset in all_subsets:\n",
    "        if sum(subset) == NUMBER:\n",
    "            return True\n",
    "    return False\n",
    "```\n",
    "\n",
    "\n",
    "__Explanation__\n",
    "\n",
    "The point of this exercise was to get you thinking about the complexity of functions, specifically the complexity of different ways to enumerate items. Keep these complexities in mind as you continue thriughout this lecture sequence. It might sound great to always get the very best solution by enumerating all posible choices - but the downside to this approach is the terribly high complexity!\n",
    "$O(2^n)$ is the complexisty fot the final question because we are enumerating all possible subsets of a set, know as the \"power set\" of a set.\n",
    "Technicaly, the complexity is actually $O(n*2^n)$ because the sum() is $O(n)$, but $2^n$ is already large enough that we can ignore the $n$ multiplier.\n"
   ]
  }
 ],
 "metadata": {
  "language_info": {
   "name": "python"
  }
 },
 "nbformat": 4,
 "nbformat_minor": 2
}
